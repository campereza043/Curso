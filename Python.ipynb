{
  "nbformat": 4,
  "nbformat_minor": 0,
  "metadata": {
    "colab": {
      "provenance": [],
      "authorship_tag": "ABX9TyPcs5FXDR0rVqK1lu1UtVy5",
      "include_colab_link": true
    },
    "kernelspec": {
      "name": "python3",
      "display_name": "Python 3"
    },
    "language_info": {
      "name": "python"
    }
  },
  "cells": [
    {
      "cell_type": "markdown",
      "metadata": {
        "id": "view-in-github",
        "colab_type": "text"
      },
      "source": [
        "<a href=\"https://colab.research.google.com/github/campereza043/Curso/blob/main/Python.ipynb\" target=\"_parent\"><img src=\"https://colab.research.google.com/assets/colab-badge.svg\" alt=\"Open In Colab\"/></a>"
      ]
    },
    {
      "cell_type": "markdown",
      "source": [
        "## Hola mundo ##\n"
      ],
      "metadata": {
        "id": "1b5ZyW2AyJ-M"
      }
    },
    {
      "cell_type": "code",
      "source": [
        "# Nuestro hola mundo en Python\n",
        "print(\"Hola Python\")\n",
        "print('Hola Python')"
      ],
      "metadata": {
        "colab": {
          "base_uri": "https://localhost:8080/"
        },
        "id": "_qK_J0DZQINj",
        "outputId": "75c4ff16-c08d-46c4-d448-c5c42149eed5"
      },
      "execution_count": null,
      "outputs": [
        {
          "output_type": "stream",
          "name": "stdout",
          "text": [
            "Hola Python\n",
            "Hola Python\n"
          ]
        }
      ]
    },
    {
      "cell_type": "code",
      "source": [
        "# Esto es un comentario\n",
        "\n",
        "\"\"\"\n",
        "Este es un\n",
        "comentario\n",
        "en varias líneas\n",
        "\"\"\"\n",
        "\n",
        "'''\n",
        "Este también es un\n",
        "comentario\n",
        "en varias líneas\n",
        "'''"
      ],
      "metadata": {
        "colab": {
          "base_uri": "https://localhost:8080/",
          "height": 35
        },
        "id": "--SbhhAzQnE6",
        "outputId": "daccf808-4352-4d43-f287-e0eb2b065ac8"
      },
      "execution_count": null,
      "outputs": [
        {
          "output_type": "execute_result",
          "data": {
            "text/plain": [
              "'\\nEste también es un\\ncomentario\\nen varias líneas\\n'"
            ],
            "application/vnd.google.colaboratory.intrinsic+json": {
              "type": "string"
            }
          },
          "metadata": {},
          "execution_count": 1
        }
      ]
    },
    {
      "cell_type": "code",
      "source": [
        "# Cómo consultar el tipo de dato\n",
        "# Imprime el tipo de dato \n",
        "print(type(\"Soy un dato str\"))  # Tipo 'str' cadena de texto\n",
        "print(type(5))  # Tipo 'int' entero\n",
        "print(type(1.5))  # Tipo 'float' no entero\n",
        "print(type(3 + 1j))  # Tipo 'complex' números complejos\n",
        "print(type(True))  # Tipo 'bool' booleano\n",
        "print(type(print(\"Mi cadena de texto\")))  # Tipo 'NoneType' print no tiene tipo de dato por eso es 'NoneType'\n"
      ],
      "metadata": {
        "colab": {
          "base_uri": "https://localhost:8080/"
        },
        "id": "r4__yaB0QrKa",
        "outputId": "f5568cb5-9ab0-43ee-c894-aadc6e8c51cd"
      },
      "execution_count": null,
      "outputs": [
        {
          "output_type": "stream",
          "name": "stdout",
          "text": [
            "<class 'str'>\n",
            "<class 'int'>\n",
            "<class 'float'>\n",
            "<class 'complex'>\n",
            "<class 'bool'>\n",
            "Mi cadena de texto\n",
            "<class 'NoneType'>\n"
          ]
        }
      ]
    },
    {
      "cell_type": "markdown",
      "source": [
        "##Variables"
      ],
      "metadata": {
        "id": "cqlnJrqHySQi"
      }
    },
    {
      "cell_type": "code",
      "source": [
        "my_string_variable = \"My String variable\"\n",
        "print(my_string_variable)\n",
        "\n",
        "my_int_variable = 5\n",
        "print(my_int_variable)\n",
        "\n",
        "my_int_to_str_variable = str(my_int_variable) # Cambió una variabble entera a una variable de cadena de texto.\n",
        "print(my_int_to_str_variable)\n",
        "print(type(my_int_to_str_variable)) # Muestra el tipo de dato.\n",
        "\n",
        "my_bool_variable = False\n",
        "print(my_bool_variable)"
      ],
      "metadata": {
        "colab": {
          "base_uri": "https://localhost:8080/"
        },
        "id": "UhsftRjtQwxt",
        "outputId": "eb0ffc70-0400-4443-fd97-2322d509655a"
      },
      "execution_count": null,
      "outputs": [
        {
          "output_type": "stream",
          "name": "stdout",
          "text": [
            "My String variable\n",
            "5\n",
            "5\n",
            "<class 'str'>\n",
            "False\n"
          ]
        }
      ]
    },
    {
      "cell_type": "code",
      "source": [
        "# Concatenación de variables en un print\n",
        "print(my_string_variable, my_int_to_str_variable, my_bool_variable)\n",
        "print(\"Este es el valor de:\", my_bool_variable)"
      ],
      "metadata": {
        "colab": {
          "base_uri": "https://localhost:8080/"
        },
        "id": "1jQ4L5oyyjrK",
        "outputId": "676a76a3-3d7e-4309-8ef6-7c418041b828"
      },
      "execution_count": null,
      "outputs": [
        {
          "output_type": "stream",
          "name": "stdout",
          "text": [
            "My String variable 5 False\n",
            "Este es el valor de: False\n"
          ]
        }
      ]
    },
    {
      "cell_type": "code",
      "source": [
        "# Algunas funciones del sistema\n",
        "print(len(my_string_variable)) # Cuenta los carácteres que tiene la variable."
      ],
      "metadata": {
        "colab": {
          "base_uri": "https://localhost:8080/"
        },
        "id": "kFxAeMUfyklp",
        "outputId": "f2bd6eb5-ec97-4c84-c37f-1a65caad917d"
      },
      "execution_count": null,
      "outputs": [
        {
          "output_type": "stream",
          "name": "stdout",
          "text": [
            "18\n"
          ]
        }
      ]
    },
    {
      "cell_type": "code",
      "source": [
        "# Variables en una sola línea. ¡Cuidado con abusar de esta sintaxis!\n",
        "# A cada variable le asigna un valor.\n",
        "name, surname, alias, age = \"Camila\", \"Pérez\", 'Camilin', 17\n",
        "print(\"Me llamo:\", name, surname, \". Mi edad es:\",\n",
        "      age, \". Y mi alias es:\", alias)"
      ],
      "metadata": {
        "colab": {
          "base_uri": "https://localhost:8080/"
        },
        "id": "PWYWdAGd1hEm",
        "outputId": "87b7ec64-0d98-41e4-fefd-b76e76483cd2"
      },
      "execution_count": null,
      "outputs": [
        {
          "output_type": "stream",
          "name": "stdout",
          "text": [
            "Me llamo: Camila Pérez . Mi edad es: 17 . Y mi alias es: Camilin\n"
          ]
        }
      ]
    },
    {
      "cell_type": "code",
      "source": [
        "# Inputs\n",
        "name = input('¿Cuál es tu nombre? ')\n",
        "age = input('¿Cuántos años tienes? ')\n",
        "print(name)\n",
        "print(age)"
      ],
      "metadata": {
        "colab": {
          "base_uri": "https://localhost:8080/"
        },
        "id": "hufG1ddC3uMK",
        "outputId": "ce26bab5-a22d-4739-d93b-914eb406dbdc"
      },
      "execution_count": null,
      "outputs": [
        {
          "output_type": "stream",
          "name": "stdout",
          "text": [
            "¿Cuál es tu nombre? Camila\n",
            "¿Cuántos años tienes? 17\n",
            "Camila\n",
            "17\n"
          ]
        }
      ]
    },
    {
      "cell_type": "code",
      "source": [
        "# Cambiamos su tipo\n",
        "name = 17\n",
        "age = \"Camila\"\n",
        "print(name)\n",
        "print(age)"
      ],
      "metadata": {
        "colab": {
          "base_uri": "https://localhost:8080/"
        },
        "id": "jPxjn1yx4Vvq",
        "outputId": "65fd63c1-fe73-4603-a7a5-ecd6b1d23329"
      },
      "execution_count": null,
      "outputs": [
        {
          "output_type": "stream",
          "name": "stdout",
          "text": [
            "17\n",
            "Camila\n"
          ]
        }
      ]
    },
    {
      "cell_type": "code",
      "source": [
        "# ¿Forzamos el tipo?\n",
        "address: str = \"Mi dirección\"\n",
        "address = True\n",
        "address = 5\n",
        "address = 1.2\n",
        "print(type(address))"
      ],
      "metadata": {
        "colab": {
          "base_uri": "https://localhost:8080/"
        },
        "id": "FkzVkmhG4emK",
        "outputId": "66bce657-e6a9-45b6-e525-0b9306053e3f"
      },
      "execution_count": null,
      "outputs": [
        {
          "output_type": "stream",
          "name": "stdout",
          "text": [
            "<class 'float'>\n"
          ]
        }
      ]
    },
    {
      "cell_type": "markdown",
      "source": [
        "##Operadores"
      ],
      "metadata": {
        "id": "9XT4oTjQFA3X"
      }
    },
    {
      "cell_type": "code",
      "source": [
        "### Operadores Aritméticos ###\n",
        "\n",
        "# Operaciones con enteros\n",
        "print(3 + 4) # suma\n",
        "print(3 - 4) # resta\n",
        "print(3 * 4) # multiplicación\n",
        "print(3 / 4) # división\n",
        "print(10 % 3) # módulo, obtiene el resto de la división de un número entre otro\n",
        "print(10 // 3) # división aproximada a un número entero\n",
        "print(2 ** 3) # exponentes\n",
        "print(2 ** 3 + 3 - 7 / 1 // 4)"
      ],
      "metadata": {
        "colab": {
          "base_uri": "https://localhost:8080/"
        },
        "id": "1T2JfBA14hn_",
        "outputId": "72ad7102-0035-484e-8521-bd72cb7fef2f"
      },
      "execution_count": null,
      "outputs": [
        {
          "output_type": "stream",
          "name": "stdout",
          "text": [
            "7\n",
            "-1\n",
            "12\n",
            "0.75\n",
            "1\n",
            "3\n",
            "8\n",
            "10.0\n"
          ]
        }
      ]
    },
    {
      "cell_type": "code",
      "source": [
        "# Operaciones con cadenas de texto\n",
        "print(\"Hola \" + \"Python \" + \"¿Qué tal?\")\n",
        "print(\"Hola \" + str(5))\n",
        "print(\"Hola \" + \"2\")"
      ],
      "metadata": {
        "colab": {
          "base_uri": "https://localhost:8080/"
        },
        "id": "LpDwtpB0Ib7-",
        "outputId": "29329179-de9f-4a74-c648-dbc99583a8a2"
      },
      "execution_count": null,
      "outputs": [
        {
          "output_type": "stream",
          "name": "stdout",
          "text": [
            "Hola Python ¿Qué tal?\n",
            "Hola 5\n",
            "Hola 2\n"
          ]
        }
      ]
    },
    {
      "cell_type": "code",
      "source": [
        "# Operaciones mixtas\n",
        "print(\"Hola \" * 5)\n",
        "print(\"Hola \" * (2 ** 3))\n",
        "\n",
        "my_float = 2.5 * 2\n",
        "print(\"Hola \" * int(my_float)) # cambiar una variable de float a int para que se pueda operar"
      ],
      "metadata": {
        "colab": {
          "base_uri": "https://localhost:8080/"
        },
        "id": "MjsK6ql3Ie8B",
        "outputId": "e12a4021-8eb4-440d-9666-a0660e936ef3"
      },
      "execution_count": null,
      "outputs": [
        {
          "output_type": "stream",
          "name": "stdout",
          "text": [
            "Hola Hola Hola Hola Hola \n",
            "Hola Hola Hola Hola Hola Hola Hola Hola \n",
            "Hola Hola Hola Hola Hola \n"
          ]
        }
      ]
    },
    {
      "cell_type": "code",
      "source": [
        "### Operadores Comparativos ###\n",
        "\n",
        "# Operaciones con enteros\n",
        "print(3 > 4) # mayor que\n",
        "print(3 < 4) # menor que\n",
        "print(3 >= 4) # mayor o igual que\n",
        "print(4 <= 4) # menor o igual que\n",
        "print(3 == 4) # igual\n",
        "print(3 != 4) # distinto"
      ],
      "metadata": {
        "colab": {
          "base_uri": "https://localhost:8080/"
        },
        "id": "-YYAJI_1IkIN",
        "outputId": "d0bdcab3-186d-4d17-fe9d-6cf95182d703"
      },
      "execution_count": null,
      "outputs": [
        {
          "output_type": "stream",
          "name": "stdout",
          "text": [
            "False\n",
            "True\n",
            "False\n",
            "True\n",
            "False\n",
            "True\n"
          ]
        }
      ]
    },
    {
      "cell_type": "code",
      "source": [
        "# Operaciones con cadenas de texto\n",
        "print(\"Hola\" > \"Python\")\n",
        "print(\"Hola\" < \"Python\")\n",
        "print(\"aaaa\" >= \"abaa\")  # Ordenación alfabética por ASCII\n",
        "print(len(\"aaaa\") >= len(\"abaa\"))  # Cuenta caracteres\n",
        "print(\"Hola\" <= \"Python\")\n",
        "print(\"Hola\" == \"Hola\")\n",
        "print(\"Hola\" != \"Python\")"
      ],
      "metadata": {
        "colab": {
          "base_uri": "https://localhost:8080/"
        },
        "id": "eoVDhmBDNUAN",
        "outputId": "2991ef01-73eb-43f1-9453-3e321a18d438"
      },
      "execution_count": null,
      "outputs": [
        {
          "output_type": "stream",
          "name": "stdout",
          "text": [
            "False\n",
            "True\n",
            "False\n",
            "True\n",
            "True\n",
            "True\n",
            "True\n"
          ]
        }
      ]
    },
    {
      "cell_type": "code",
      "source": [
        "### Operadores Lógicos ###\n",
        "\n",
        "# Basada en el Álgebra de Boole \n",
        "print(3 > 4 and \"Hola\" > \"Python\")\n",
        "print(3 > 4 or \"Hola\" > \"Python\")\n",
        "print(3 < 4 and \"Hola\" < \"Python\")\n",
        "print(3 < 4 or \"Hola\" > \"Python\")\n",
        "print(3 < 4 or (\"Hola\" > \"Python\" and 4 == 4))\n",
        "print(not (3 > 4))"
      ],
      "metadata": {
        "colab": {
          "base_uri": "https://localhost:8080/"
        },
        "id": "Wxc-GQokSs1L",
        "outputId": "8e37d0af-a91e-4fb1-eb03-8ef6916700b2"
      },
      "execution_count": null,
      "outputs": [
        {
          "output_type": "stream",
          "name": "stdout",
          "text": [
            "False\n",
            "False\n",
            "True\n",
            "True\n",
            "True\n",
            "True\n"
          ]
        }
      ]
    },
    {
      "cell_type": "markdown",
      "source": [
        "##Strings"
      ],
      "metadata": {
        "id": "PsKRbgkdV9RS"
      }
    },
    {
      "cell_type": "code",
      "source": [
        "# \n",
        "my_string = \"Mi String\"\n",
        "my_other_string = 'Mi otro String'\n",
        "\n",
        "print(len(my_string))\n",
        "print(len(my_other_string))\n",
        "print(my_string + \" \" + my_other_string)\n",
        "\n",
        "my_new_line_string = \"Este es un String\\ncon salto de línea\"\n",
        "print(my_new_line_string)\n",
        "\n",
        "my_tab_string = \"\\tEste es un String con tabulación\"\n",
        "print(my_tab_string)\n",
        "\n",
        "my_scape_string = \"\\\\tEste es un String \\\\n escapado\"\n",
        "print(my_scape_string)"
      ],
      "metadata": {
        "colab": {
          "base_uri": "https://localhost:8080/"
        },
        "id": "0PR_by6jTqBt",
        "outputId": "6a5d83a0-5603-43f7-dd52-b1c99cb9a2f0"
      },
      "execution_count": null,
      "outputs": [
        {
          "output_type": "stream",
          "name": "stdout",
          "text": [
            "9\n",
            "14\n",
            "Mi String Mi otro String\n",
            "Este es un String\n",
            "con salto de línea\n",
            "\tEste es un String con tabulación\n",
            "\\tEste es un String \\n escapado\n"
          ]
        }
      ]
    },
    {
      "cell_type": "code",
      "source": [
        "# Formateo\n",
        "\n",
        "name, surname, age = \"Camila\", \"Pérez\", 17\n",
        "print(\"Mi nombre es {} {} y mi edad es {}\".format(name, surname, age))\n",
        "print(\"Mi nombre es %s %s y mi edad es %d\" % (name, surname, age)) # %s si es string %d si es un entero\n",
        "print(\"Mi nombre es \" + name + \" \" + surname + \" y mi edad es \" + str(age))\n",
        "print(f\"Mi nombre es {name} {surname} y mi edad es {age}\")"
      ],
      "metadata": {
        "colab": {
          "base_uri": "https://localhost:8080/"
        },
        "id": "eFzh3yPNWISk",
        "outputId": "9750e173-5947-455d-9d75-77964c1247a0"
      },
      "execution_count": null,
      "outputs": [
        {
          "output_type": "stream",
          "name": "stdout",
          "text": [
            "Mi nombre es Camila Pérez y mi edad es 17\n",
            "Mi nombre es Camila Pérez y mi edad es 17\n",
            "Mi nombre es Camila Pérez y mi edad es 17\n",
            "Mi nombre es Camila Pérez y mi edad es 17\n"
          ]
        }
      ]
    },
    {
      "cell_type": "code",
      "source": [
        "# Desempaqueado de caracteres\n",
        "\n",
        "language = \"python\"\n",
        "a, b, c, d, e, f = language\n",
        "print(a)\n",
        "print(e)"
      ],
      "metadata": {
        "colab": {
          "base_uri": "https://localhost:8080/"
        },
        "id": "ca5P792BWvZF",
        "outputId": "2711752c-5f83-4007-daae-11b94c7fbc32"
      },
      "execution_count": null,
      "outputs": [
        {
          "output_type": "stream",
          "name": "stdout",
          "text": [
            "p\n",
            "o\n"
          ]
        }
      ]
    },
    {
      "cell_type": "code",
      "source": [
        "# División\n",
        "# Empieza a contar de der-izq desde 0 1 2 ... y de izq-der -1 -2 ... \n",
        "# es decir en la palabra 'python' p=0 y=1 t=2 n=-1\n",
        "language_slice = language[1:3]\n",
        "print(language_slice)\n",
        "\n",
        "language_slice = language[1:]\n",
        "print(language_slice)\n",
        "\n",
        "language_slice = language[-2]\n",
        "print(language_slice)\n",
        "\n",
        "language_slice = language[0:6:5]\n",
        "print(language_slice)"
      ],
      "metadata": {
        "colab": {
          "base_uri": "https://localhost:8080/"
        },
        "id": "Z6TKBhXniLmd",
        "outputId": "0e33235f-ed83-4e3f-e3ad-06b7ff20dfe9"
      },
      "execution_count": null,
      "outputs": [
        {
          "output_type": "stream",
          "name": "stdout",
          "text": [
            "yt\n",
            "ython\n",
            "o\n",
            "pn\n"
          ]
        }
      ]
    },
    {
      "cell_type": "code",
      "source": [
        "# Reverse\n",
        "# Voltea el texto \n",
        "reversed_language = language[::-1]\n",
        "print(reversed_language)"
      ],
      "metadata": {
        "colab": {
          "base_uri": "https://localhost:8080/"
        },
        "id": "uccD9eKqkdQm",
        "outputId": "a99ccf97-f5cc-4dd7-ba5a-cbb86aab4f3f"
      },
      "execution_count": null,
      "outputs": [
        {
          "output_type": "stream",
          "name": "stdout",
          "text": [
            "nohtyp\n"
          ]
        }
      ]
    },
    {
      "cell_type": "code",
      "source": [
        "# Funciones del lenguaje\n",
        "\n",
        "print(language.capitalize()) # pone la primera letra en mayúscula\n",
        "print(language.upper()) # pone todas las letras en mayúscula\n",
        "print(language.lower()) # pone todas las letras en minúscula\n",
        "print(language.lower().isupper()) # pone en todas en minúscula con lower y con isupper mira si todas están en mayúscula, por eso es false\n",
        "print(language.upper().islower()) # pone en todas en mayúscula con upper y con islower mira si todas están en minúscula, por eso es false\n",
        "print(language.upper().isupper()) # pone en todas en mayúscula con upper y con isupper mira si todas están en mayúscula, por eso es true\n",
        "print(language.lower().islower()) # pone en todas en minúscula con lower y con islower mira si todas están en minúscula, por eso es true\n",
        "print(language.count(\"t\")) # cuenta cuántas letras tiene la palabra\n",
        "print(language.isnumeric()) # dice si es un número\n",
        "print(\"1\".isnumeric()) # dice si es un número\n",
        "print(language.startswith(\"py\")) # mira si la palabra empieza con eso \n",
        "print(\"Py\" == \"py\")  # No es lo mismo"
      ],
      "metadata": {
        "colab": {
          "base_uri": "https://localhost:8080/"
        },
        "id": "dtImpwpIifnK",
        "outputId": "654d55a0-14ad-44d6-96de-7ad9848533c5"
      },
      "execution_count": null,
      "outputs": [
        {
          "output_type": "stream",
          "name": "stdout",
          "text": [
            "Python\n",
            "PYTHON\n",
            "python\n",
            "False\n",
            "False\n",
            "True\n",
            "True\n",
            "1\n",
            "False\n",
            "True\n",
            "True\n",
            "False\n"
          ]
        }
      ]
    },
    {
      "cell_type": "code",
      "source": [],
      "metadata": {
        "id": "ULDlCahTlyvx"
      },
      "execution_count": null,
      "outputs": []
    },
    {
      "cell_type": "markdown",
      "source": [
        "## Listas"
      ],
      "metadata": {
        "id": "ZQt4dv_TqB1S"
      }
    },
    {
      "cell_type": "code",
      "source": [],
      "metadata": {
        "id": "gTiKKqeQqDcY"
      },
      "execution_count": null,
      "outputs": []
    }
  ]
}